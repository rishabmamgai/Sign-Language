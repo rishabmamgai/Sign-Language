{
 "cells": [
  {
   "cell_type": "code",
   "execution_count": 1,
   "metadata": {
    "_cell_guid": "b1076dfc-b9ad-4769-8c92-a6c4dae69d19",
    "_uuid": "8f2839f25d086af736a60e9eeb907d3b93b6e0e5",
    "execution": {
     "iopub.execute_input": "2021-11-05T09:25:12.332940Z",
     "iopub.status.busy": "2021-11-05T09:25:12.332590Z",
     "iopub.status.idle": "2021-11-05T09:25:14.318548Z",
     "shell.execute_reply": "2021-11-05T09:25:14.317567Z",
     "shell.execute_reply.started": "2021-11-05T09:25:12.332839Z"
    }
   },
   "outputs": [
    {
     "name": "stdout",
     "output_type": "stream",
     "text": [
      "/kaggle/input/sign-language-mnist/sign_mnist_test.csv\n",
      "/kaggle/input/sign-language-mnist/amer_sign2.png\n",
      "/kaggle/input/sign-language-mnist/amer_sign3.png\n",
      "/kaggle/input/sign-language-mnist/sign_mnist_train.csv\n",
      "/kaggle/input/sign-language-mnist/american_sign_language.PNG\n",
      "/kaggle/input/sign-language-mnist/sign_mnist_test/sign_mnist_test.csv\n",
      "/kaggle/input/sign-language-mnist/sign_mnist_train/sign_mnist_train.csv\n"
     ]
    }
   ],
   "source": [
    "# This Python 3 environment comes with many helpful analytics libraries installed\n",
    "# It is defined by the kaggle/python Docker image: https://github.com/kaggle/docker-python\n",
    "# For example, here's several helpful packages to load\n",
    "\n",
    "import numpy as np\n",
    "import pandas as pd\n",
    "import tensorflow as tf\n",
    "from tensorflow.keras.preprocessing.image import ImageDataGenerator\n",
    "\n",
    "# Input data files are available in the read-only \"../input/\" directory\n",
    "# For example, running this (by clicking run or pressing Shift+Enter) will list all files under the input directory\n",
    "\n",
    "import os\n",
    "for dirname, _, filenames in os.walk('/kaggle/input'):\n",
    "    for filename in filenames:\n",
    "        print(os.path.join(dirname, filename))\n",
    "\n",
    "# You can write up to 20GB to the current directory (/kaggle/working/) that gets preserved as output when you create a version using \"Save & Run All\" \n",
    "# You can also write temporary files to /kaggle/temp/, but they won't be saved outside of the current session"
   ]
  },
  {
   "cell_type": "markdown",
   "metadata": {},
   "source": [
    "# Loading data"
   ]
  },
  {
   "cell_type": "code",
   "execution_count": 2,
   "metadata": {
    "execution": {
     "iopub.execute_input": "2021-11-05T09:25:14.416939Z",
     "iopub.status.busy": "2021-11-05T09:25:14.416610Z",
     "iopub.status.idle": "2021-11-05T09:25:18.555666Z",
     "shell.execute_reply": "2021-11-05T09:25:18.554631Z",
     "shell.execute_reply.started": "2021-11-05T09:25:14.416901Z"
    }
   },
   "outputs": [],
   "source": [
    "train_data = pd.read_csv(\"/kaggle/input/sign-language-mnist/sign_mnist_train/sign_mnist_train.csv\")\n",
    "test_data = pd.read_csv(\"/kaggle/input/sign-language-mnist/sign_mnist_test/sign_mnist_test.csv\")"
   ]
  },
  {
   "cell_type": "markdown",
   "metadata": {},
   "source": [
    "# Formulating data matrices"
   ]
  },
  {
   "cell_type": "code",
   "execution_count": 3,
   "metadata": {
    "execution": {
     "iopub.execute_input": "2021-11-05T09:25:24.743879Z",
     "iopub.status.busy": "2021-11-05T09:25:24.743579Z",
     "iopub.status.idle": "2021-11-05T09:25:24.758276Z",
     "shell.execute_reply": "2021-11-05T09:25:24.757284Z",
     "shell.execute_reply.started": "2021-11-05T09:25:24.743849Z"
    }
   },
   "outputs": [
    {
     "data": {
      "text/plain": [
       "(array([[[107, 118, 127, ..., 170, 170, 169],\n",
       "         [111, 121, 129, ..., 171, 171, 170],\n",
       "         [113, 123, 131, ..., 171, 171, 171],\n",
       "         ...,\n",
       "         [142, 150, 159, ..., 202, 201, 200],\n",
       "         [142, 151, 160, ..., 204, 203, 202],\n",
       "         [142, 151, 160, ..., 204, 203, 202]],\n",
       " \n",
       "        [[155, 157, 156, ..., 138,  92, 108],\n",
       "         [158, 159, 159, ..., 142, 116, 143],\n",
       "         [161, 161, 161, ..., 147, 125, 140],\n",
       "         ...,\n",
       "         [162, 159, 145, ...,  91, 101,  94],\n",
       "         [153, 139, 115, ...,  97,  95, 120],\n",
       "         [135, 116,  95, ..., 103, 135, 149]]]),\n",
       " array([[ 3],\n",
       "        [ 6],\n",
       "        [ 2],\n",
       "        [ 2],\n",
       "        [13]]))"
      ]
     },
     "execution_count": 3,
     "metadata": {},
     "output_type": "execute_result"
    }
   ],
   "source": [
    "X_train = train_data.loc[:, \"pixel1\":\"pixel784\"].to_numpy().reshape((train_data.shape[0], 28, 28))\n",
    "y_train = train_data[\"label\"].to_numpy().reshape(-1, 1)\n",
    "\n",
    "X_train[:2], y_train[:5]"
   ]
  },
  {
   "cell_type": "code",
   "execution_count": 4,
   "metadata": {
    "execution": {
     "iopub.execute_input": "2021-11-05T09:25:29.232697Z",
     "iopub.status.busy": "2021-11-05T09:25:29.232068Z",
     "iopub.status.idle": "2021-11-05T09:25:29.243318Z",
     "shell.execute_reply": "2021-11-05T09:25:29.242602Z",
     "shell.execute_reply.started": "2021-11-05T09:25:29.232653Z"
    }
   },
   "outputs": [
    {
     "data": {
      "text/plain": [
       "(array([[[149, 149, 150, ..., 150, 150, 149],\n",
       "         [150, 150, 150, ..., 151, 150, 151],\n",
       "         [150, 151, 151, ..., 151, 151, 152],\n",
       "         ...,\n",
       "         [ 69,  69,  77, ..., 116, 113, 118],\n",
       "         [ 74,  75,  76, ..., 110, 116, 113],\n",
       "         [ 75,  74,  74, ..., 112, 120, 107]],\n",
       " \n",
       "        [[126, 128, 131, ..., 133, 134, 132],\n",
       "         [129, 132, 134, ..., 136, 136, 134],\n",
       "         [133, 135, 138, ..., 140, 139, 138],\n",
       "         ...,\n",
       "         [173, 174, 177, ..., 184, 182, 181],\n",
       "         [172, 174, 177, ..., 184, 182, 181],\n",
       "         [172, 174, 177, ..., 184, 182, 180]]]),\n",
       " array([[ 6],\n",
       "        [ 5],\n",
       "        [10],\n",
       "        [ 0],\n",
       "        [ 3]]))"
      ]
     },
     "execution_count": 4,
     "metadata": {},
     "output_type": "execute_result"
    }
   ],
   "source": [
    "X_test = test_data.loc[:, \"pixel1\":\"pixel784\"].to_numpy().reshape((test_data.shape[0], 28, 28))\n",
    "y_test = test_data[\"label\"].to_numpy().reshape(-1, 1)\n",
    "\n",
    "X_test[:2], y_test[:5]"
   ]
  },
  {
   "cell_type": "markdown",
   "metadata": {},
   "source": [
    "# Encoding labels"
   ]
  },
  {
   "cell_type": "code",
   "execution_count": 5,
   "metadata": {
    "execution": {
     "iopub.execute_input": "2021-11-05T09:25:32.822601Z",
     "iopub.status.busy": "2021-11-05T09:25:32.822212Z",
     "iopub.status.idle": "2021-11-05T09:25:33.105013Z",
     "shell.execute_reply": "2021-11-05T09:25:33.104064Z",
     "shell.execute_reply.started": "2021-11-05T09:25:32.822562Z"
    }
   },
   "outputs": [
    {
     "data": {
      "text/plain": [
       "(array([[0., 0., 0., 1., 0., 0., 0., 0., 0., 0., 0., 0., 0., 0., 0., 0.,\n",
       "         0., 0., 0., 0., 0., 0., 0., 0.],\n",
       "        [0., 0., 0., 0., 0., 0., 1., 0., 0., 0., 0., 0., 0., 0., 0., 0.,\n",
       "         0., 0., 0., 0., 0., 0., 0., 0.]]),\n",
       " array([[0., 0., 0., 0., 0., 0., 1., 0., 0., 0., 0., 0., 0., 0., 0., 0.,\n",
       "         0., 0., 0., 0., 0., 0., 0., 0.],\n",
       "        [0., 0., 0., 0., 0., 1., 0., 0., 0., 0., 0., 0., 0., 0., 0., 0.,\n",
       "         0., 0., 0., 0., 0., 0., 0., 0.]]))"
      ]
     },
     "execution_count": 5,
     "metadata": {},
     "output_type": "execute_result"
    }
   ],
   "source": [
    "from sklearn.preprocessing import OneHotEncoder\n",
    "\n",
    "encoder = OneHotEncoder()\n",
    "y_train = encoder.fit_transform(y_train).toarray()\n",
    "y_test = encoder.fit_transform(y_test).toarray()\n",
    "\n",
    "y_train[:2], y_test[:2]"
   ]
  },
  {
   "cell_type": "markdown",
   "metadata": {},
   "source": [
    "# Data Generators"
   ]
  },
  {
   "cell_type": "code",
   "execution_count": 6,
   "metadata": {
    "execution": {
     "iopub.execute_input": "2021-11-05T09:25:36.062623Z",
     "iopub.status.busy": "2021-11-05T09:25:36.062291Z",
     "iopub.status.idle": "2021-11-05T09:25:36.123779Z",
     "shell.execute_reply": "2021-11-05T09:25:36.122802Z",
     "shell.execute_reply.started": "2021-11-05T09:25:36.062582Z"
    }
   },
   "outputs": [
    {
     "name": "stdout",
     "output_type": "stream",
     "text": [
      "(27455, 28, 28, 1) (27455, 24)\n",
      "(7172, 28, 28, 1) (7172, 24)\n"
     ]
    }
   ],
   "source": [
    "training_images = np.expand_dims(X_train, axis=3)\n",
    "training_labels = y_train\n",
    "\n",
    "testing_images = np.expand_dims(X_test, axis=3)\n",
    "testing_labels = y_test\n",
    "\n",
    "\n",
    "train_datagen = ImageDataGenerator(rescale=1/255, rotation_range=10, width_shift_range=0.1,\\\n",
    "                                   height_shift_range=0.1, shear_range=0.1, zoom_range=0.1,\\\n",
    "                                   fill_mode='nearest')\n",
    "\n",
    "test_datagen = ImageDataGenerator(rescale=1/255)\n",
    "\n",
    "train_generator = train_datagen.flow(training_images, training_labels)\n",
    "test_generator = test_datagen.flow(testing_images, testing_labels)\n",
    "\n",
    "print(training_images.shape, training_labels.shape)\n",
    "print(testing_images.shape, testing_labels.shape)"
   ]
  },
  {
   "cell_type": "markdown",
   "metadata": {},
   "source": [
    "# Model"
   ]
  },
  {
   "cell_type": "code",
   "execution_count": 7,
   "metadata": {
    "execution": {
     "iopub.execute_input": "2021-11-05T09:25:43.382850Z",
     "iopub.status.busy": "2021-11-05T09:25:43.382549Z",
     "iopub.status.idle": "2021-11-05T09:25:43.697024Z",
     "shell.execute_reply": "2021-11-05T09:25:43.696229Z",
     "shell.execute_reply.started": "2021-11-05T09:25:43.382818Z"
    }
   },
   "outputs": [
    {
     "name": "stderr",
     "output_type": "stream",
     "text": [
      "\n",
      "User settings:\n",
      "\n",
      "   KMP_AFFINITY=granularity=fine,verbose,compact,1,0\n",
      "   KMP_BLOCKTIME=0\n",
      "   KMP_DUPLICATE_LIB_OK=True\n",
      "   KMP_INIT_AT_FORK=FALSE\n",
      "   KMP_SETTINGS=1\n",
      "   KMP_WARNINGS=0\n",
      "\n",
      "Effective settings:\n",
      "\n",
      "   KMP_ABORT_DELAY=0\n",
      "   KMP_ADAPTIVE_LOCK_PROPS='1,1024'\n",
      "   KMP_ALIGN_ALLOC=64\n",
      "   KMP_ALL_THREADPRIVATE=128\n",
      "   KMP_ATOMIC_MODE=2\n",
      "   KMP_BLOCKTIME=0\n",
      "   KMP_CPUINFO_FILE: value is not defined\n",
      "   KMP_DETERMINISTIC_REDUCTION=false\n",
      "   KMP_DEVICE_THREAD_LIMIT=2147483647\n",
      "   KMP_DISP_NUM_BUFFERS=7\n",
      "   KMP_DUPLICATE_LIB_OK=true\n",
      "   KMP_ENABLE_TASK_THROTTLING=true\n",
      "   KMP_FORCE_REDUCTION: value is not defined\n",
      "   KMP_FOREIGN_THREADS_THREADPRIVATE=true\n",
      "   KMP_FORKJOIN_BARRIER='2,2'\n",
      "   KMP_FORKJOIN_BARRIER_PATTERN='hyper,hyper'\n",
      "   KMP_GTID_MODE=3\n",
      "   KMP_HANDLE_SIGNALS=false\n",
      "   KMP_HOT_TEAMS_MAX_LEVEL=1\n",
      "   KMP_HOT_TEAMS_MODE=0\n",
      "   KMP_INIT_AT_FORK=true\n",
      "   KMP_LIBRARY=throughput\n",
      "   KMP_LOCK_KIND=queuing\n",
      "   KMP_MALLOC_POOL_INCR=1M\n",
      "   KMP_NUM_LOCKS_IN_BLOCK=1\n",
      "   KMP_PLAIN_BARRIER='2,2'\n",
      "   KMP_PLAIN_BARRIER_PATTERN='hyper,hyper'\n",
      "   KMP_REDUCTION_BARRIER='1,1'\n",
      "   KMP_REDUCTION_BARRIER_PATTERN='hyper,hyper'\n",
      "   KMP_SCHEDULE='static,balanced;guided,iterative'\n",
      "   KMP_SETTINGS=true\n",
      "   KMP_SPIN_BACKOFF_PARAMS='4096,100'\n",
      "   KMP_STACKOFFSET=64\n",
      "   KMP_STACKPAD=0\n",
      "   KMP_STACKSIZE=8M\n",
      "   KMP_STORAGE_MAP=false\n",
      "   KMP_TASKING=2\n",
      "   KMP_TASKLOOP_MIN_TASKS=0\n",
      "   KMP_TASK_STEALING_CONSTRAINT=1\n",
      "   KMP_TEAMS_THREAD_LIMIT=4\n",
      "   KMP_TOPOLOGY_METHOD=all\n",
      "   KMP_USE_YIELD=1\n",
      "   KMP_VERSION=false\n",
      "   KMP_WARNINGS=false\n",
      "   OMP_AFFINITY_FORMAT='OMP: pid %P tid %i thread %n bound to OS proc set {%A}'\n",
      "   OMP_ALLOCATOR=omp_default_mem_alloc\n",
      "   OMP_CANCELLATION=false\n",
      "   OMP_DEFAULT_DEVICE=0\n",
      "   OMP_DISPLAY_AFFINITY=false\n",
      "   OMP_DISPLAY_ENV=false\n",
      "   OMP_DYNAMIC=false\n",
      "   OMP_MAX_ACTIVE_LEVELS=1\n",
      "   OMP_MAX_TASK_PRIORITY=0\n",
      "   OMP_NESTED: deprecated; max-active-levels-var=1\n",
      "   OMP_NUM_THREADS: value is not defined\n",
      "   OMP_PLACES: value is not defined\n",
      "   OMP_PROC_BIND='intel'\n",
      "   OMP_SCHEDULE='static'\n",
      "   OMP_STACKSIZE=8M\n",
      "   OMP_TARGET_OFFLOAD=DEFAULT\n",
      "   OMP_THREAD_LIMIT=2147483647\n",
      "   OMP_WAIT_POLICY=PASSIVE\n",
      "   KMP_AFFINITY='verbose,warnings,respect,granularity=fine,compact,1,0'\n",
      "\n",
      "2021-11-05 09:25:43.408176: I tensorflow/core/common_runtime/process_util.cc:146] Creating new thread pool with default inter op setting: 2. Tune using inter_op_parallelism_threads for best performance.\n"
     ]
    },
    {
     "name": "stdout",
     "output_type": "stream",
     "text": [
      "Model: \"sequential\"\n",
      "_________________________________________________________________\n",
      "Layer (type)                 Output Shape              Param #   \n",
      "=================================================================\n",
      "conv2d (Conv2D)              (None, 26, 26, 16)        160       \n",
      "_________________________________________________________________\n",
      "max_pooling2d (MaxPooling2D) (None, 13, 13, 16)        0         \n",
      "_________________________________________________________________\n",
      "conv2d_1 (Conv2D)            (None, 11, 11, 32)        4640      \n",
      "_________________________________________________________________\n",
      "max_pooling2d_1 (MaxPooling2 (None, 5, 5, 32)          0         \n",
      "_________________________________________________________________\n",
      "conv2d_2 (Conv2D)            (None, 3, 3, 64)          18496     \n",
      "_________________________________________________________________\n",
      "max_pooling2d_2 (MaxPooling2 (None, 1, 1, 64)          0         \n",
      "_________________________________________________________________\n",
      "flatten (Flatten)            (None, 64)                0         \n",
      "_________________________________________________________________\n",
      "dense (Dense)                (None, 1000)              65000     \n",
      "_________________________________________________________________\n",
      "dense_1 (Dense)              (None, 24)                24024     \n",
      "=================================================================\n",
      "Total params: 112,320\n",
      "Trainable params: 112,320\n",
      "Non-trainable params: 0\n",
      "_________________________________________________________________\n"
     ]
    }
   ],
   "source": [
    "model = tf.keras.models.Sequential([\n",
    "        tf.keras.layers.Conv2D(16, (3,3), activation='relu', input_shape=(28, 28, 1)),\n",
    "        tf.keras.layers.MaxPooling2D((2,2)),\n",
    "        tf.keras.layers.Conv2D(32, (3,3), activation='relu', input_shape=(28, 28, 1)),\n",
    "        tf.keras.layers.MaxPooling2D((2,2)),\n",
    "        tf.keras.layers.Conv2D(64, (3,3), activation='relu', input_shape=(28, 28, 1)),\n",
    "        tf.keras.layers.MaxPooling2D((2,2)),\n",
    "    \n",
    "        tf.keras.layers.Flatten(),\n",
    "        tf.keras.layers.Dense(1000, activation='relu'),\n",
    "        tf.keras.layers.Dense(24, activation='softmax')\n",
    "])\n",
    "\n",
    "model.compile(loss='categorical_crossentropy', optimizer='rmsprop', metrics=['acc'])\n",
    "model.summary()"
   ]
  },
  {
   "cell_type": "code",
   "execution_count": 8,
   "metadata": {
    "execution": {
     "iopub.execute_input": "2021-11-05T09:25:47.702888Z",
     "iopub.status.busy": "2021-11-05T09:25:47.701853Z",
     "iopub.status.idle": "2021-11-05T09:25:47.709945Z",
     "shell.execute_reply": "2021-11-05T09:25:47.708802Z",
     "shell.execute_reply.started": "2021-11-05T09:25:47.702830Z"
    }
   },
   "outputs": [],
   "source": [
    "class myCallback(tf.keras.callbacks.Callback):\n",
    "    def on_epoch_end(self, epoch, logs={}):\n",
    "        if logs.get('acc') >= 0.97:\n",
    "            print(\"Accuracy >= 97, Terminating\")\n",
    "            self.model.stop_training = True"
   ]
  },
  {
   "cell_type": "code",
   "execution_count": 9,
   "metadata": {
    "execution": {
     "iopub.execute_input": "2021-11-05T09:25:53.823072Z",
     "iopub.status.busy": "2021-11-05T09:25:53.821896Z",
     "iopub.status.idle": "2021-11-05T09:29:09.577591Z",
     "shell.execute_reply": "2021-11-05T09:29:09.576738Z",
     "shell.execute_reply.started": "2021-11-05T09:25:53.823020Z"
    }
   },
   "outputs": [
    {
     "name": "stderr",
     "output_type": "stream",
     "text": [
      "/opt/conda/lib/python3.7/site-packages/keras/engine/training.py:1972: UserWarning: `Model.fit_generator` is deprecated and will be removed in a future version. Please use `Model.fit`, which supports generators.\n",
      "  warnings.warn('`Model.fit_generator` is deprecated and '\n",
      "2021-11-05 09:25:53.901472: I tensorflow/compiler/mlir/mlir_graph_optimization_pass.cc:185] None of the MLIR Optimization Passes are enabled (registered 2)\n"
     ]
    },
    {
     "name": "stdout",
     "output_type": "stream",
     "text": [
      "Epoch 1/10\n",
      "858/858 [==============================] - 17s 19ms/step - loss: 2.0744 - acc: 0.3426 - val_loss: 1.0479 - val_acc: 0.6168\n",
      "Epoch 2/10\n",
      "858/858 [==============================] - 17s 20ms/step - loss: 0.9816 - acc: 0.6677 - val_loss: 0.5403 - val_acc: 0.8027\n",
      "Epoch 3/10\n",
      "858/858 [==============================] - 17s 20ms/step - loss: 0.5805 - acc: 0.7984 - val_loss: 0.3019 - val_acc: 0.8964\n",
      "Epoch 4/10\n",
      "858/858 [==============================] - 17s 20ms/step - loss: 0.3912 - acc: 0.8645 - val_loss: 0.2948 - val_acc: 0.8935\n",
      "Epoch 5/10\n",
      "858/858 [==============================] - 17s 19ms/step - loss: 0.2838 - acc: 0.9023 - val_loss: 0.1860 - val_acc: 0.9343\n",
      "Epoch 6/10\n",
      "858/858 [==============================] - 17s 20ms/step - loss: 0.2128 - acc: 0.9285 - val_loss: 0.1553 - val_acc: 0.9400\n",
      "Epoch 7/10\n",
      "858/858 [==============================] - 17s 20ms/step - loss: 0.1771 - acc: 0.9391 - val_loss: 0.0816 - val_acc: 0.9752\n",
      "Epoch 8/10\n",
      "858/858 [==============================] - 16s 19ms/step - loss: 0.1424 - acc: 0.9514 - val_loss: 0.0899 - val_acc: 0.9642\n",
      "Epoch 9/10\n",
      "858/858 [==============================] - 17s 20ms/step - loss: 0.1253 - acc: 0.9579 - val_loss: 0.1273 - val_acc: 0.9622\n",
      "Epoch 10/10\n",
      "858/858 [==============================] - 16s 19ms/step - loss: 0.1139 - acc: 0.9630 - val_loss: 0.1280 - val_acc: 0.9596\n",
      "225/225 [==============================] - 2s 6ms/step - loss: 0.1280 - acc: 0.9596\n"
     ]
    },
    {
     "data": {
      "text/plain": [
       "[0.12799420952796936, 0.9595649838447571]"
      ]
     },
     "execution_count": 9,
     "metadata": {},
     "output_type": "execute_result"
    }
   ],
   "source": [
    "callback = myCallback()\n",
    "history = model.fit_generator(train_generator, epochs=10, validation_data=test_generator, verbose=1, callbacks=[callback])\n",
    "\n",
    "model.evaluate(testing_images/255, testing_labels, verbose=1)"
   ]
  },
  {
   "cell_type": "markdown",
   "metadata": {},
   "source": [
    "# Visualising plots"
   ]
  },
  {
   "cell_type": "code",
   "execution_count": 10,
   "metadata": {
    "execution": {
     "iopub.execute_input": "2021-11-05T09:30:09.813901Z",
     "iopub.status.busy": "2021-11-05T09:30:09.813228Z",
     "iopub.status.idle": "2021-11-05T09:30:10.278141Z",
     "shell.execute_reply": "2021-11-05T09:30:10.277252Z",
     "shell.execute_reply.started": "2021-11-05T09:30:09.813840Z"
    }
   },
   "outputs": [
    {
     "data": {
      "image/png": "[encoded data removed]",
      "text/plain": [
       "<Figure size 432x288 with 1 Axes>"
      ]
     },
     "metadata": {
      "needs_background": "light"
     },
     "output_type": "display_data"
    },
    {
     "data": {
      "image/png": "[encoded data removed]",
      "text/plain": [
       "<Figure size 432x288 with 1 Axes>"
      ]
     },
     "metadata": {
      "needs_background": "light"
     },
     "output_type": "display_data"
    }
   ],
   "source": [
    "from matplotlib import pyplot as plt\n",
    "\n",
    "train_acc = history.history['acc']\n",
    "train_loss = history.history['loss']\n",
    "\n",
    "test_acc = history.history['val_acc']\n",
    "test_loss = history.history['val_loss']\n",
    "\n",
    "epoch = list(range(1, len(train_acc)+1))\n",
    "\n",
    "plt.plot(epoch, train_acc, 'g', label='Training accuracy')\n",
    "plt.plot(epoch, test_acc, 'b', label='Testing accuracy')\n",
    "plt.legend()\n",
    "plt.show()\n",
    "\n",
    "plt.plot(epoch, train_loss, 'g', label='Training loss')\n",
    "plt.plot(epoch, test_loss, 'b', label='Testing loss')\n",
    "plt.legend()\n",
    "plt.show()"
   ]
  },
  {
   "cell_type": "code",
   "execution_count": 11,
   "metadata": {
    "execution": {
     "iopub.execute_input": "2021-11-05T09:32:21.523998Z",
     "iopub.status.busy": "2021-11-05T09:32:21.523602Z",
     "iopub.status.idle": "2021-11-05T09:32:21.563643Z",
     "shell.execute_reply": "2021-11-05T09:32:21.562730Z",
     "shell.execute_reply.started": "2021-11-05T09:32:21.523960Z"
    }
   },
   "outputs": [],
   "source": [
    "model.save(\"signLanguageClassifier.h5\")"
   ]
  },
  {
   "cell_type": "code",
   "execution_count": 12,
   "metadata": {
    "execution": {
     "iopub.execute_input": "2021-11-05T09:32:23.961869Z",
     "iopub.status.busy": "2021-11-05T09:32:23.961385Z",
     "iopub.status.idle": "2021-11-05T09:32:24.145076Z",
     "shell.execute_reply": "2021-11-05T09:32:24.144405Z",
     "shell.execute_reply.started": "2021-11-05T09:32:23.961838Z"
    }
   },
   "outputs": [
    {
     "name": "stdout",
     "output_type": "stream",
     "text": [
      "[[0. 0. 0. 0. 0. 0. 0. 0. 0. 0. 0. 1. 0. 0. 0. 0. 0. 0. 0. 0. 0. 0. 0. 0.]]\n",
      "[0. 0. 0. 0. 0. 0. 0. 0. 0. 0. 0. 1. 0. 0. 0. 0. 0. 0. 0. 0. 0. 0. 0. 0.]\n"
     ]
    }
   ],
   "source": [
    "print(model.predict(np.expand_dims(testing_images[1092], axis=0)))\n",
    "print(testing_labels[1092])"
   ]
  }
 ],
 "metadata": {
  "kernelspec": {
   "display_name": "Python 3 (ipykernel)",
   "language": "python",
   "name": "python3"
  },
  "language_info": {
   "codemirror_mode": {
    "name": "ipython",
    "version": 3
   },
   "file_extension": ".py",
   "mimetype": "text/x-python",
   "name": "python",
   "nbconvert_exporter": "python",
   "pygments_lexer": "ipython3",
   "version": "3.8.6"
  }
 },
 "nbformat": 4,
 "nbformat_minor": 4
}
